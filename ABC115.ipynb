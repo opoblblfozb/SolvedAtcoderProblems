{
 "cells": [
  {
   "cell_type": "markdown",
   "metadata": {},
   "source": [
    "# A"
   ]
  },
  {
   "cell_type": "code",
   "execution_count": null,
   "metadata": {},
   "outputs": [],
   "source": [
    "D = int(input())\n",
    "if D == 25:\n",
    "    print('Christmas')\n",
    "elif D == 24:\n",
    "    print('Christmas Eve')\n",
    "elif D == 23:\n",
    "    print('Christmas Eve Eve')\n",
    "elif D == 22:\n",
    "    print('Christmas Eve Eve Eve')"
   ]
  },
  {
   "cell_type": "markdown",
   "metadata": {},
   "source": [
    "# B"
   ]
  },
  {
   "cell_type": "code",
   "execution_count": 1,
   "metadata": {},
   "outputs": [
    {
     "name": "stdout",
     "output_type": "stream",
     "text": [
      "3\n",
      "4980\n",
      "7980\n",
      "6980\n",
      "15950\n"
     ]
    }
   ],
   "source": [
    "N = int(input())\n",
    "ans = 0\n",
    "price = []\n",
    "for _ in range(N):\n",
    "    price.append(int(input()))\n",
    "\n",
    "max_price = max(price)\n",
    "price.remove(max_price)\n",
    "print(int(sum(price) + max_price//2))"
   ]
  },
  {
   "cell_type": "markdown",
   "metadata": {},
   "source": [
    "# C"
   ]
  },
  {
   "cell_type": "code",
   "execution_count": null,
   "metadata": {},
   "outputs": [],
   "source": [
    "N, K =map(int, input().split())\n",
    "lst = []\n",
    "for _ in range(N):\n",
    "    lst.append(int(input()))\n",
    "sor = sorted(lst)\n",
    "\n",
    "mindiff = float('inf')\n",
    "for i in range(N-K+1):\n",
    "    diff = sor[i+K-1] - sor[i] \n",
    "    if diff <= mindiff:\n",
    "        mindiff = diff\n",
    "print(mindiff) "
   ]
  },
  {
   "cell_type": "markdown",
   "metadata": {},
   "source": [
    "# D"
   ]
  },
  {
   "cell_type": "code",
   "execution_count": 8,
   "metadata": {},
   "outputs": [],
   "source": [
    "### 再帰関数をいかに書くか!!!!"
   ]
  },
  {
   "cell_type": "code",
   "execution_count": 9,
   "metadata": {},
   "outputs": [
    {
     "name": "stdout",
     "output_type": "stream",
     "text": [
      "2 7\n",
      "4\n"
     ]
    }
   ],
   "source": [
    "N, X = map(int, input().split())\n",
    "a, p = [1], [1]\n",
    "for i in range(N):\n",
    "    a.append(a[i]*2 + 3)\n",
    "    p.append(p[i]*2 + 1)\n",
    "    \n",
    "def f(N, X):   ## レベルＮバーガーの下からＸ層に含まれるパティの枚数\n",
    "    if N == 0:\n",
    "        return 0 if X<= 0 else 1\n",
    "    elif X <= 1 + a[N-1]:\n",
    "        return f(N-1, X-1)\n",
    "    else:\n",
    "        return p[N-1] + 1 +f(N-1, X-2-a[N-1])\n",
    "print(f(N, X))"
   ]
  },
  {
   "cell_type": "code",
   "execution_count": 7,
   "metadata": {},
   "outputs": [
    {
     "data": {
      "text/plain": [
       "[1,\n",
       " 5,\n",
       " 13,\n",
       " 29,\n",
       " 61,\n",
       " 125,\n",
       " 253,\n",
       " 509,\n",
       " 1021,\n",
       " 2045,\n",
       " 4093,\n",
       " 8189,\n",
       " 16381,\n",
       " 32765,\n",
       " 65533,\n",
       " 131069,\n",
       " 262141,\n",
       " 524285,\n",
       " 1048573,\n",
       " 2097149,\n",
       " 4194301,\n",
       " 8388605,\n",
       " 16777213,\n",
       " 33554429,\n",
       " 67108861,\n",
       " 134217725,\n",
       " 268435453,\n",
       " 536870909,\n",
       " 1073741821,\n",
       " 2147483645,\n",
       " 4294967293,\n",
       " 8589934589,\n",
       " 17179869181,\n",
       " 34359738365,\n",
       " 68719476733,\n",
       " 137438953469,\n",
       " 274877906941,\n",
       " 549755813885,\n",
       " 1099511627773,\n",
       " 2199023255549,\n",
       " 4398046511101,\n",
       " 8796093022205,\n",
       " 17592186044413,\n",
       " 35184372088829,\n",
       " 70368744177661,\n",
       " 140737488355325,\n",
       " 281474976710653,\n",
       " 562949953421309,\n",
       " 1125899906842621,\n",
       " 2251799813685245,\n",
       " 4503599627370493]"
      ]
     },
     "execution_count": 7,
     "metadata": {},
     "output_type": "execute_result"
    }
   ],
   "source": [
    "bar = []\n",
    "total = 1\n",
    "for _ in range(51):\n",
    "    bar.append(total)\n",
    "    total = 2*total + 3\n",
    "N, X = map(int, input().split())\n",
    "\n",
    "point = X\n",
    "level = N\n",
    "while True:\n",
    "    barger = bar[level]\n",
    "    \n",
    "    if point == 1:\n",
    "        ans =\n",
    "        \n",
    "    "
   ]
  },
  {
   "cell_type": "code",
   "execution_count": 15,
   "metadata": {},
   "outputs": [
    {
     "name": "stdout",
     "output_type": "stream",
     "text": [
      "50 4321098765432109\n",
      "2160549382716056\n"
     ]
    }
   ],
   "source": [
    "N, X = map(int, input().split())\n",
    "\n",
    "num = [1]\n",
    "pati = [1]\n",
    "for i in range(1, N+1):\n",
    "    num.append(num[i-1]*2 + 3)\n",
    "    pati.append(pati[i-1]*2 + 1)\n",
    "\n",
    "def f(N, X): ## レベルＮバーガーのＸ層目までのパティの数\n",
    "    if N==0:\n",
    "        return 1\n",
    "    \n",
    "    if X==1:\n",
    "        return 0\n",
    "    elif 2<=X<=num[N-1]+1:\n",
    "        return f(N-1, X-1)\n",
    "    elif X==num[N-1]+2:\n",
    "        return pati[N-1]+1\n",
    "    elif num[N-1]+3<=X<=2*num[N-1]+2:\n",
    "        return pati[N-1]+1 + f(N-1, X-num[N-1]-2)\n",
    "    else:\n",
    "        return pati[N]\n",
    "print(f(N, X))"
   ]
  },
  {
   "cell_type": "code",
   "execution_count": null,
   "metadata": {},
   "outputs": [],
   "source": []
  }
 ],
 "metadata": {
  "kernelspec": {
   "display_name": "Python 3",
   "language": "python",
   "name": "python3"
  },
  "language_info": {
   "codemirror_mode": {
    "name": "ipython",
    "version": 3
   },
   "file_extension": ".py",
   "mimetype": "text/x-python",
   "name": "python",
   "nbconvert_exporter": "python",
   "pygments_lexer": "ipython3",
   "version": "3.7.4"
  }
 },
 "nbformat": 4,
 "nbformat_minor": 2
}
