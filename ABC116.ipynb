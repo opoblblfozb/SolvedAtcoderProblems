{
 "cells": [
  {
   "cell_type": "markdown",
   "metadata": {},
   "source": [
    "# A"
   ]
  },
  {
   "cell_type": "code",
   "execution_count": 1,
   "metadata": {},
   "outputs": [
    {
     "name": "stdout",
     "output_type": "stream",
     "text": [
      "3 4 5\n",
      "6\n"
     ]
    }
   ],
   "source": [
    "x, y, _ = map(int, input().split())\n",
    "print(x*y//2)"
   ]
  },
  {
   "cell_type": "markdown",
   "metadata": {},
   "source": [
    "# B"
   ]
  },
  {
   "cell_type": "code",
   "execution_count": 10,
   "metadata": {},
   "outputs": [
    {
     "name": "stdout",
     "output_type": "stream",
     "text": [
      "93\n",
      "19\n"
     ]
    }
   ],
   "source": [
    "def main():\n",
    "    s = int(input())\n",
    "    ak = s\n",
    "    k = 1\n",
    "\n",
    "    history = set([ak])\n",
    "    while True:\n",
    "        k += 1\n",
    "        if ak%2 == 0:\n",
    "            ak = ak//2\n",
    "        else:\n",
    "            ak = ak*3 + 1\n",
    "\n",
    "        if ak in history:\n",
    "            print(k)\n",
    "            break\n",
    "        else:\n",
    "            history = history | set([ak])\n",
    "\n",
    "main()"
   ]
  },
  {
   "cell_type": "markdown",
   "metadata": {},
   "source": [
    "# C"
   ]
  },
  {
   "cell_type": "code",
   "execution_count": null,
   "metadata": {},
   "outputs": [],
   "source": [
    "def main():\n",
    "    N = int(input())\n",
    "    lst = list(map(int, input().split()))\n",
    "    groups = [lst]\n",
    "    ans = 0\n",
    "\n",
    "    while len(groups) != 0:\n",
    "        #print('------')\n",
    "        targetgroup = groups.pop()\n",
    "\n",
    "        minval = min(targetgroup)\n",
    "        targetgroup = [v - minval for v in targetgroup]\n",
    "        ans += minval\n",
    "        #print(targetgroup)\n",
    "\n",
    "        tmp = []\n",
    "        for index, v in enumerate(targetgroup):\n",
    "            if v != 0:\n",
    "                tmp.append(v)\n",
    "            if (v==0 or index==len(targetgroup)-1) and (len(tmp) != 0):\n",
    "                groups.append(tmp)\n",
    "                tmp = []\n",
    "        #print(groups)\n",
    "    print(ans)\n",
    "main()"
   ]
  },
  {
   "cell_type": "markdown",
   "metadata": {},
   "source": [
    "# D"
   ]
  },
  {
   "cell_type": "code",
   "execution_count": null,
   "metadata": {},
   "outputs": [],
   "source": [
    "from IPython.core.debugger import Pdb; Pdb().set_trace()"
   ]
  },
  {
   "cell_type": "code",
   "execution_count": 4,
   "metadata": {},
   "outputs": [
    {
     "name": "stdout",
     "output_type": "stream",
     "text": [
      "3 3\n",
      "1 9\n",
      "1 7\n",
      "2 6\n",
      "[[[9, 0], [7, 0]], [[6, 0]], []]\n",
      "[[9, 1], [7, 0], [6, 1]]\n"
     ]
    }
   ],
   "source": [
    "from heapq import heapify, heappop, heappush\n",
    "N, K = map(int, input().split())\n",
    "items = [[] for _ in range(N)]\n",
    "nitems = []\n",
    "\n",
    "for _ in range(N):\n",
    "    t, d = map(int, input().split())\n",
    "    items[t-1].append([d, 0])\n",
    "for t in items:\n",
    "    if len(t) == 0:\n",
    "        continue\n",
    "    else:\n",
    "        soritem = sorted(t, key=lambda x: x[0], reverse=True)\n",
    "        soritem[0][1] += 1\n",
    "        for val in soritem:\n",
    "            nitems.append(val)\n",
    "\n",
    "nitems = sorted(nitems, key=lambda x:x[0], reverse=True)\n",
    "S = nitems[:K]\n",
    "heapify(S)\n",
    "nokori = nitems[K:]\n",
    "nokori = [val for val in nokori if val[1] == 1]\n",
    "maxpoint = sum([i[0] for i in S]) + sum([i[1] for i in S])**2\n",
    "print(nitems)\n",
    "print(S)\n",
    "print(nokori)\n",
    "\n",
    "while nokori:\n",
    "    valnokori = nokori.pop(0)\n",
    "    valS = heappop(S)\n",
    "    print(valS)\n",
    "    heappush(S, valnokori)\n",
    "    print(S)\n",
    "    \n",
    "    point = sum([i[0] for i in S]) + sum([i[1] for i in S])**2\n",
    "    if point > maxpoint:\n",
    "        maxpoint = point\n",
    "print(maxpoint)"
   ]
  },
  {
   "cell_type": "code",
   "execution_count": null,
   "metadata": {},
   "outputs": [],
   "source": [
    "##  一番大事な発想は種類ポイントが固定できることに注目すること。\n",
    "def main():\n",
    "    N, K = map(int, input().split())\n",
    "    SUSHI = []\n",
    "    for _ in range(N):\n",
    "        t, d = map(int, input().split())\n",
    "        SUSHI.append((d, t))\n",
    "    SUSHI.sort(reverse=True)\n",
    "\n",
    "    NEW = {i: True for i in range(1, N+1)} ## NEW[i]:=i番目のすしの種類がカウントされたかどうか\n",
    "    x, y = 0, 0 # xは基礎ポイント、yは種類数,y*yで種類ぽいんと\n",
    "    A, B = [], [] # Ａはおいしさ順に先頭K個とったときに、新種じゃないもののおいしさ\n",
    "                  #　Bはおいしさ順にみたときに、Ａ以降のネタでＡに出現しなかったネタの美味しさ\n",
    "\n",
    "    ## 以下、ＳＵＳＨＩを先頭からみて初期値x, yを作成する\n",
    "    for d, t in SUSHI[:K]:\n",
    "        if NEW[t]: # 新種のネタ\n",
    "            x += d\n",
    "            y += 1 # 種類が増える\n",
    "            NEW[t] = False\n",
    "        else:\n",
    "            x += d\n",
    "            A.append(d)\n",
    "    for d, t in SUSHI[K:]:\n",
    "        if NEW[t]:\n",
    "            B.append(d)\n",
    "            NEW[t] = False\n",
    "    B.sort()\n",
    "    ### この時点で\n",
    "    ### xには、とりあえず大きい順に食べていったときのおいしさポイントが入っている\n",
    "    ### yには、そのときの種類ポイントが入っている。\n",
    "    ### これらを「初期状態」とする。美味しさについて最適化されている\n",
    "    ### Aには先頭K種類のすしで種類ポイントに寄与しないネタ(の美味しさ)が大きい順に入っている。pop()で一番小さい値をとってこれる\n",
    "    ### Bには先頭K以降のすしで種類ポイントに寄与するネタ(の美味しさ)が小さい順に入っている。pop()で一番大きい値をとってこれる。\n",
    "    \n",
    "    \n",
    "    ### おいしさについて最適化された状態から種類数を考慮する\n",
    "    ### 初期状態において、選んだもののうち「種類ポイントに寄与せず、おいしくないもの」と\n",
    "    ### 選ばないもののうち「種類ポイントに寄与して、おいしいもの」を交換する。\n",
    "    answer = x + y**2\n",
    "    while A and B: # AかＢが空になるまで続ける\n",
    "        a, b = A.pop(), B.pop() # A中種類ポイントに寄与せず、一番おいしくないネタとB中種類ポイントに寄与して、一番おいしいネタを交換\n",
    "        x -= a\n",
    "        x += b\n",
    "        y += 1\n",
    "        if x + y**2 > answer:\n",
    "            answer = x + y**2\n",
    "    print(answer)\n",
    "main()"
   ]
  },
  {
   "cell_type": "code",
   "execution_count": 1,
   "metadata": {},
   "outputs": [
    {
     "name": "stdout",
     "output_type": "stream",
     "text": [
      "1 1\n",
      "2 1\n",
      "{1: True}\n"
     ]
    },
    {
     "ename": "KeyError",
     "evalue": "2",
     "output_type": "error",
     "traceback": [
      "\u001b[1;31m---------------------------------------------------------------------------\u001b[0m",
      "\u001b[1;31mKeyError\u001b[0m                                  Traceback (most recent call last)",
      "\u001b[1;32m<ipython-input-1-8aa5fe3904b7>\u001b[0m in \u001b[0;36m<module>\u001b[1;34m\u001b[0m\n\u001b[0;32m     13\u001b[0m \u001b[1;33m\u001b[0m\u001b[0m\n\u001b[0;32m     14\u001b[0m \u001b[1;32mfor\u001b[0m \u001b[0md\u001b[0m\u001b[1;33m,\u001b[0m \u001b[0mt\u001b[0m \u001b[1;32min\u001b[0m \u001b[0mSUSHI\u001b[0m\u001b[1;33m[\u001b[0m\u001b[1;33m:\u001b[0m\u001b[0mk\u001b[0m\u001b[1;33m]\u001b[0m\u001b[1;33m:\u001b[0m\u001b[1;33m\u001b[0m\u001b[1;33m\u001b[0m\u001b[0m\n\u001b[1;32m---> 15\u001b[1;33m     \u001b[1;32mif\u001b[0m \u001b[0mNEW\u001b[0m\u001b[1;33m[\u001b[0m\u001b[0mt\u001b[0m\u001b[1;33m]\u001b[0m\u001b[1;33m:\u001b[0m\u001b[1;33m\u001b[0m\u001b[1;33m\u001b[0m\u001b[0m\n\u001b[0m\u001b[0;32m     16\u001b[0m         \u001b[0mx\u001b[0m \u001b[1;33m+=\u001b[0m \u001b[0md\u001b[0m\u001b[1;33m;\u001b[0m \u001b[0my\u001b[0m \u001b[1;33m+=\u001b[0m \u001b[1;36m1\u001b[0m\u001b[1;33m\u001b[0m\u001b[1;33m\u001b[0m\u001b[0m\n\u001b[0;32m     17\u001b[0m         \u001b[0mNEW\u001b[0m\u001b[1;33m[\u001b[0m\u001b[0mt\u001b[0m\u001b[1;33m]\u001b[0m \u001b[1;33m=\u001b[0m \u001b[1;32mFalse\u001b[0m\u001b[1;33m\u001b[0m\u001b[1;33m\u001b[0m\u001b[0m\n",
      "\u001b[1;31mKeyError\u001b[0m: 2"
     ]
    }
   ],
   "source": [
    "n, k = map(int, input().split())\n",
    "\n",
    "SUSHI = []\n",
    "for _ in range(n):\n",
    "    t, d = map(int, input().split())\n",
    "    SUSHI.append((d, t))\n",
    "SUSHI.sort(reverse = True) ## おいしさ順にソード\n",
    "\n",
    "NEW = {i:True for i in range(1, n + 1)}  ## これの使い方がうまい\n",
    "print(NEW)\n",
    "x, y = 0, 0\n",
    "A, B = [], []\n",
    "\n",
    "for d, t in SUSHI[:k]:\n",
    "    if NEW[t]:\n",
    "        x += d; y += 1\n",
    "        NEW[t] = False\n",
    "    else:\n",
    "        x += d\n",
    "        A.append(d)\n",
    "\n",
    "for d, t in SUSHI[k:]:\n",
    "    if NEW[t]:\n",
    "        B.append(d)\n",
    "        NEW[t] = False\n",
    "B.sort()\n",
    "\n",
    "answer = x + y**2\n",
    "while A and B:\n",
    "    a, b = A.pop(), B.pop()\n",
    "    x -= a; x += b; y += 1\n",
    "    if x + y**2 > answer:\n",
    "        answer = x + y**2\n",
    "\n",
    "print(answer)\n"
   ]
  },
  {
   "cell_type": "code",
   "execution_count": null,
   "metadata": {},
   "outputs": [],
   "source": []
  }
 ],
 "metadata": {
  "kernelspec": {
   "display_name": "Python 3",
   "language": "python",
   "name": "python3"
  },
  "language_info": {
   "codemirror_mode": {
    "name": "ipython",
    "version": 3
   },
   "file_extension": ".py",
   "mimetype": "text/x-python",
   "name": "python",
   "nbconvert_exporter": "python",
   "pygments_lexer": "ipython3",
   "version": "3.7.7"
  }
 },
 "nbformat": 4,
 "nbformat_minor": 2
}
