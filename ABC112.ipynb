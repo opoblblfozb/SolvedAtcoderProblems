{
 "cells": [
  {
   "cell_type": "markdown",
   "metadata": {},
   "source": [
    "# C"
   ]
  },
  {
   "cell_type": "code",
   "execution_count": 4,
   "metadata": {},
   "outputs": [
    {
     "name": "stdout",
     "output_type": "stream",
     "text": [
      "2\n",
      "0 0 100\n",
      "1 1 98\n",
      "0 0 100\n"
     ]
    }
   ],
   "source": [
    "def main():\n",
    "    N = int(input())\n",
    "    points = []\n",
    "    for _ in range(N):\n",
    "        x, y, h = map(int, input().split())\n",
    "        points.append((x, y, h))\n",
    "        if h >= 1:\n",
    "            hint = (x, y, h)\n",
    "\n",
    "    for px in range(101):\n",
    "        for py in range(101):\n",
    "            H = hint[2] + abs(px-hint[0]) + abs(py-hint[1])\n",
    "            clearflag = True\n",
    "            for point in points:\n",
    "                x, y, h = point\n",
    "                val = max([H - abs(px-x) - abs(py-y), 0])\n",
    "                if val != h:\n",
    "                    clearflag = False\n",
    "\n",
    "            if clearflag:\n",
    "                print(px, py, H)\n",
    "                return\n",
    "if __name__ == '__main__':\n",
    "    main()"
   ]
  },
  {
   "cell_type": "markdown",
   "metadata": {},
   "source": [
    "# D"
   ]
  },
  {
   "cell_type": "code",
   "execution_count": 6,
   "metadata": {},
   "outputs": [
    {
     "name": "stdout",
     "output_type": "stream",
     "text": [
      "10 123\n",
      "3\n"
     ]
    }
   ],
   "source": [
    "def make_divisors(n):\n",
    "    divisors = []\n",
    "    for i in range(1, int(n**0.5)+1):\n",
    "        if n % i == 0:\n",
    "            divisors.append(i)\n",
    "            if i != n // i:\n",
    "                divisors.append(n//i)\n",
    "\n",
    "    # divisors.sort()\n",
    "    return divisors\n",
    "\n",
    "def main():\n",
    "    N, M = map(int, input().split())\n",
    "    MN = M/N\n",
    "    divisor = make_divisors(M)\n",
    "    max_gcd = 0\n",
    "    for d in divisor:\n",
    "        if (d<=MN) and (d>=max_gcd):\n",
    "            max_gcd = d\n",
    "    print(max_gcd)\n",
    "if __name__ == '__main__':\n",
    "    main()"
   ]
  },
  {
   "cell_type": "code",
   "execution_count": null,
   "metadata": {},
   "outputs": [],
   "source": []
  }
 ],
 "metadata": {
  "kernelspec": {
   "display_name": "Python 3",
   "language": "python",
   "name": "python3"
  },
  "language_info": {
   "codemirror_mode": {
    "name": "ipython",
    "version": 3
   },
   "file_extension": ".py",
   "mimetype": "text/x-python",
   "name": "python",
   "nbconvert_exporter": "python",
   "pygments_lexer": "ipython3",
   "version": "3.7.4"
  }
 },
 "nbformat": 4,
 "nbformat_minor": 2
}
