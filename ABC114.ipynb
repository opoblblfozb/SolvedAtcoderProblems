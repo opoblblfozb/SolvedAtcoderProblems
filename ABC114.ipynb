{
 "cells": [
  {
   "cell_type": "markdown",
   "metadata": {},
   "source": [
    "# A"
   ]
  },
  {
   "cell_type": "code",
   "execution_count": 3,
   "metadata": {},
   "outputs": [
    {
     "name": "stdout",
     "output_type": "stream",
     "text": [
      "7\n",
      "YES\n"
     ]
    }
   ],
   "source": [
    "x = int(input())\n",
    "if int(x) in [7, 5, 3]:\n",
    "    print('YES')\n",
    "else:\n",
    "    print('NO')"
   ]
  },
  {
   "cell_type": "markdown",
   "metadata": {},
   "source": [
    "# B"
   ]
  },
  {
   "cell_type": "code",
   "execution_count": 6,
   "metadata": {},
   "outputs": [
    {
     "name": "stdout",
     "output_type": "stream",
     "text": [
      "35753\n",
      "0\n"
     ]
    }
   ],
   "source": [
    "s = input()\n",
    "min_ = float('inf')\n",
    "for i in range(len(s) - 2):\n",
    "    val = int(s[i:i+3])\n",
    "    diff = abs(val-753)\n",
    "    if diff <= min_:\n",
    "        min_ = diff\n",
    "print(min_)"
   ]
  },
  {
   "cell_type": "markdown",
   "metadata": {},
   "source": [
    "# C"
   ]
  },
  {
   "cell_type": "code",
   "execution_count": 23,
   "metadata": {},
   "outputs": [
    {
     "name": "stdout",
     "output_type": "stream",
     "text": [
      "999999999\n",
      "26484\n"
     ]
    }
   ],
   "source": [
    "N = input()\n",
    "keta = len(N)\n",
    "candidate = []\n",
    "\n",
    "def dfs(s, level):\n",
    "    if level == keta + 1:\n",
    "        return\n",
    "    \n",
    "    if s=='':\n",
    "        pass\n",
    "    else:\n",
    "        candidate.append(int(s))\n",
    "\n",
    "    dfs(s + '3', level+1)\n",
    "    dfs(s + '5', level+1)\n",
    "    dfs(s + '7', level+1)\n",
    "\n",
    "dfs('', 0)\n",
    "ans = 0\n",
    "for d in candidate:\n",
    "    group = set(str(d))\n",
    "    if (group == {'3', '5', '7'}) and (d<=int(N)):\n",
    "        ans += 1\n",
    "print(ans)"
   ]
  },
  {
   "cell_type": "markdown",
   "metadata": {},
   "source": [
    "# D"
   ]
  },
  {
   "cell_type": "code",
   "execution_count": 56,
   "metadata": {},
   "outputs": [
    {
     "name": "stdout",
     "output_type": "stream",
     "text": [
      "100\n",
      "543\n"
     ]
    }
   ],
   "source": [
    "from collections import Counter\n",
    "from operator import mul\n",
    "from functools import reduce\n",
    "def prime_factorize(n):\n",
    "    a = []\n",
    "    while n % 2 == 0:\n",
    "        a.append(2)\n",
    "        n //= 2\n",
    "    f = 3\n",
    "    while f * f <= n:\n",
    "        if n % f == 0:\n",
    "            a.append(f)\n",
    "            n //= f\n",
    "        else:\n",
    "            f += 2\n",
    "    if n != 1:\n",
    "        a.append(n)\n",
    "    return a\n",
    "\n",
    "def main():\n",
    "    N = int(input())\n",
    "    factors = [1]\n",
    "    for i in range(1, N+1):\n",
    "        factors += prime_factorize(i)\n",
    "    cnt = Counter(factors)\n",
    "    cntlst = list(cnt.values())\n",
    "    \n",
    "    count74 = sum([1 for val in cntlst if val>=74])\n",
    "    count24 = sum([1 for val in cntlst if val>=24])\n",
    "    count14 = sum([1 for val in cntlst if val>=14])\n",
    "    count4  = sum([1 for val in cntlst if val>=4])\n",
    "    count2  = sum([1 for val in cntlst if val>=2])\n",
    "    \n",
    "    ans = count74 + count24*(count2-1) + count14*(count4-1) \\\n",
    "                + (count4*(count4-1)*(count2-2))//2\n",
    "    print(ans)\n",
    "\n",
    "main()"
   ]
  },
  {
   "cell_type": "code",
   "execution_count": 30,
   "metadata": {},
   "outputs": [
    {
     "data": {
      "text/plain": [
       "[2, 2, 2, 2, 3, 3, 3, 3, 5, 5]"
      ]
     },
     "execution_count": 30,
     "metadata": {},
     "output_type": "execute_result"
    }
   ],
   "source": [
    "def c(n, P):\n",
    "    return sum([1 for p in P if p + 1 >= n])\n",
    "\n",
    "\n",
    "N = int(input())\n",
    "pN = {}\n",
    "for i in range(N + 1):\n",
    "    for j in range(2, i + 1):\n",
    "        while i % j == 0:\n",
    "            i //= j\n",
    "            pN[j] = pN.get(j, 0) + 1\n",
    "V = pN.values()\n",
    "ans = c(75, V)\n",
    "ans += c(25, V) * (c(3, V) - 1)\n",
    "ans += c(15, V) * (c(5, V) - 1)\n",
    "ans += c(5, V) * (c(5, V) - 1) * (c(3, V) - 2) // 2\n",
    "print(ans)\n"
   ]
  },
  {
   "cell_type": "code",
   "execution_count": 39,
   "metadata": {},
   "outputs": [
    {
     "data": {
      "text/plain": [
       "Counter({1: 1, 2: 8, 3: 4, 5: 2, 7: 1})"
      ]
     },
     "execution_count": 39,
     "metadata": {},
     "output_type": "execute_result"
    }
   ],
   "source": [
    "val = Counter([1, 2, 3, 2, 2, 5, 2, 3, 7, 2, 2, 2, 3, 3, 2, 5])\n",
    "val"
   ]
  },
  {
   "cell_type": "code",
   "execution_count": 40,
   "metadata": {},
   "outputs": [
    {
     "data": {
      "text/plain": [
       "[1, 8, 4, 2, 1]"
      ]
     },
     "execution_count": 40,
     "metadata": {},
     "output_type": "execute_result"
    }
   ],
   "source": [
    "list(val.values())"
   ]
  },
  {
   "cell_type": "code",
   "execution_count": null,
   "metadata": {},
   "outputs": [],
   "source": [
    "    ### p4q4r2\n",
    "    for i in range(len(cntlst)):\n",
    "        for j in range(i+1, len(cntlst)):\n",
    "            for k in range(j+1, len(cntlst)):\n",
    "                e1 = cntlst[i]\n",
    "                e2 = cntlst[j]\n",
    "                e3 = cntlst[k]\n",
    "                s = sorted([e1, e2, e3])\n",
    "                \n",
    "                if s[0]>=2 and s[1]>=4 and s[2]>=4:\n",
    "                    print(s)\n",
    "                    ans += 1\n",
    "    \n",
    "    ### p14q4, p24q2\n",
    "    for i in range(len(cntlst)):\n",
    "        for j in range(i+1, len(cntlst)):\n",
    "            e1 = cntlst[i]\n",
    "            e2 = cntlst[j]\n",
    "            s = sorted([e1, e2])\n",
    "            \n",
    "            if s[0]>=4 and s[1]>=14:\n",
    "                ans += 1\n",
    "            if s[0]>=2 and s[1]>=24:\n",
    "                ans += 1\n",
    "    \n",
    "    ### p74\n",
    "    for i in range(len(cntlst)):\n",
    "        if cntlst[i] >= 74:\n",
    "            ans += 1\n",
    "    \n",
    "    print(ans)"
   ]
  }
 ],
 "metadata": {
  "kernelspec": {
   "display_name": "Python 3",
   "language": "python",
   "name": "python3"
  },
  "language_info": {
   "codemirror_mode": {
    "name": "ipython",
    "version": 3
   },
   "file_extension": ".py",
   "mimetype": "text/x-python",
   "name": "python",
   "nbconvert_exporter": "python",
   "pygments_lexer": "ipython3",
   "version": "3.7.4"
  }
 },
 "nbformat": 4,
 "nbformat_minor": 2
}
