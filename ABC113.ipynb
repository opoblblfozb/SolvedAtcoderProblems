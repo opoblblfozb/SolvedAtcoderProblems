{
 "cells": [
  {
   "cell_type": "markdown",
   "metadata": {},
   "source": [
    "# A"
   ]
  },
  {
   "cell_type": "code",
   "execution_count": 1,
   "metadata": {},
   "outputs": [
    {
     "name": "stdout",
     "output_type": "stream",
     "text": [
      "81 58\n",
      "110\n"
     ]
    }
   ],
   "source": [
    "x, y = map(int, input().split())\n",
    "print(x + y//2)"
   ]
  },
  {
   "cell_type": "markdown",
   "metadata": {},
   "source": [
    "# B"
   ]
  },
  {
   "cell_type": "code",
   "execution_count": 6,
   "metadata": {},
   "outputs": [
    {
     "name": "stdout",
     "output_type": "stream",
     "text": [
      "3\n",
      "21 -11\n",
      "81234 94124 52141\n",
      "3\n"
     ]
    }
   ],
   "source": [
    "import numpy as np\n",
    "\n",
    "def getNearestIndex(list, num):\n",
    "    \"\"\"\n",
    "    概要: リストからある値に最も近い値を返却する関数\n",
    "    @param list: データ配列\n",
    "    @param num: 対象値\n",
    "    @return 対象値に最も近い値\n",
    "    \"\"\"\n",
    "\n",
    "    # リスト要素と対象値の差分を計算し最小値のインデックスを取得\n",
    "    idx = np.abs(np.asarray(list) - num).argmin()\n",
    "    return idx\n",
    "def main():\n",
    "    n = int(input())\n",
    "    T, A = map(int, input().split())\n",
    "    lst = list(map(int, input().split()))\n",
    "    temper = [T-l*0.006 for l in lst]\n",
    "    ind = getNearestIndex(temper, A)\n",
    "    print(ind + 1)\n",
    "\n",
    "if __name__ == '__main__':\n",
    "    main()"
   ]
  },
  {
   "cell_type": "markdown",
   "metadata": {},
   "source": [
    "# C"
   ]
  },
  {
   "cell_type": "code",
   "execution_count": 9,
   "metadata": {},
   "outputs": [
    {
     "name": "stdout",
     "output_type": "stream",
     "text": [
      "2 3\n",
      "1 32\n",
      "2 63\n",
      "1 12\n",
      "000001000002\n",
      "000002000001\n",
      "000001000001\n"
     ]
    }
   ],
   "source": [
    "def main():\n",
    "    N, M = map(int, input().split())\n",
    "    citys = []\n",
    "    for _ in range(M):\n",
    "        p, y = map(int, input().split())\n",
    "        citys.append((p, y))\n",
    "    \n",
    "    ### citysdict作成\n",
    "    temp= [[] for _ in range(N)]\n",
    "    for city in citys:\n",
    "        p, y = city\n",
    "        temp[p-1].append((p, y))\n",
    "    sortedcitys = []\n",
    "    for pre in temp:\n",
    "        sortedcitys.append(sorted(pre, key=lambda x:x[1]))\n",
    "    citysdict = {}\n",
    "    for pre in sortedcitys:\n",
    "        ban = 1\n",
    "        for city in pre:\n",
    "            citysdict[city] = ban\n",
    "            ban += 1\n",
    "    \n",
    "    ## 出力\n",
    "    for city in citys:\n",
    "        up = city[0]\n",
    "        down = citysdict[city]\n",
    "        print('{:0>6}'.format(up) + '{:0>6}'.format(down))\n",
    "\n",
    "if __name__ == '__main__':\n",
    "    main()"
   ]
  },
  {
   "cell_type": "markdown",
   "metadata": {},
   "source": [
    "# D"
   ]
  },
  {
   "cell_type": "code",
   "execution_count": 11,
   "metadata": {},
   "outputs": [
    {
     "data": {
      "text/plain": [
       "[[1, 0, 0, 0, 0, 0]]"
      ]
     },
     "execution_count": 11,
     "metadata": {},
     "output_type": "execute_result"
    }
   ],
   "source": [
    "[[1] + [0]*5]"
   ]
  },
  {
   "cell_type": "code",
   "execution_count": null,
   "metadata": {},
   "outputs": [],
   "source": [
    "### reference : https://atcoder.jp/contests/abc113/submissions/3571901\n",
    "H, W, K = map( int, input().split())\n",
    "C = [1, 1, 2, 3, 5, 8, 13, 21] #0に横棒が隣接している\n",
    "Q = 10**9 + 7\n",
    "dp = [[1]+[0]*(W-1) for _ in range(H+1)]\n",
    "if W == 1:\n",
    "    H = 0\n",
    "for i in range(1,H+1):\n",
    "    for j in range(W):\n",
    "        if j == 0:\n",
    "            dp[i][0] = (dp[i-1][0]*C[W-1] + dp[i-1][1]*C[W-2])%Q\n",
    "        elif j == W-1:\n",
    "            dp[i][W-1] = (dp[i-1][W-1]*C[W-1] + dp[i-1][W-2]*C[W-2])%Q\n",
    "        else:\n",
    "            dp[i][j] = (dp[i-1][j]*C[j]*C[W-j-1] + dp[i-1][j-1]*C[j-1]*C[W-j-1] + dp[i-1][j+1]*C[j]*C[W-j-2])%Q\n",
    "print(dp[H][K-1])"
   ]
  }
 ],
 "metadata": {
  "kernelspec": {
   "display_name": "Python 3",
   "language": "python",
   "name": "python3"
  },
  "language_info": {
   "codemirror_mode": {
    "name": "ipython",
    "version": 3
   },
   "file_extension": ".py",
   "mimetype": "text/x-python",
   "name": "python",
   "nbconvert_exporter": "python",
   "pygments_lexer": "ipython3",
   "version": "3.7.4"
  }
 },
 "nbformat": 4,
 "nbformat_minor": 2
}
